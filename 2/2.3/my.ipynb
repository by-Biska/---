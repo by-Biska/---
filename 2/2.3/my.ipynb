{
 "cells": [
  {
   "cell_type": "code",
   "execution_count": null,
   "metadata": {},
   "outputs": [],
   "source": [
    "m = 0 \n",
    "for i in range(1000, 10000):\n",
    "  d1, d2, d3, d4 = map(int, str(i))\n",
    "  e = d1 + d2\n",
    "  f = d2 + d3"
   ]
  },
  {
   "cell_type": "code",
   "execution_count": 6,
   "metadata": {},
   "outputs": [
    {
     "name": "stdout",
     "output_type": "stream",
     "text": [
      "1 0 5 6\n",
      "1 1 4 7\n",
      "1 2 3 8\n",
      "1 3 2 9\n",
      "2 0 5 6\n",
      "2 1 4 7\n",
      "2 2 3 8\n",
      "2 3 2 9\n",
      "3 0 5 6\n",
      "3 1 4 7\n",
      "3 2 2 9\n",
      "3 2 3 8\n",
      "4 0 5 6\n",
      "4 1 2 9\n",
      "4 1 3 8\n",
      "4 1 4 7\n",
      "5 0 2 9\n",
      "5 0 3 8\n",
      "5 0 4 7\n",
      "5 0 5 6\n",
      "6 5 0 0\n",
      "6 5 0 1\n",
      "6 5 0 2\n",
      "6 5 0 3\n",
      "6 5 0 4\n",
      "6 5 0 5\n",
      "7 4 0 5\n",
      "7 4 1 0\n",
      "7 4 1 1\n",
      "7 4 1 2\n",
      "7 4 1 3\n",
      "7 4 1 4\n",
      "8 3 0 5\n",
      "8 3 1 4\n",
      "8 3 2 0\n",
      "8 3 2 1\n",
      "8 3 2 2\n",
      "8 3 2 3\n",
      "9 2 0 5\n",
      "9 2 1 4\n",
      "9 2 2 3\n",
      "9 2 3 0\n",
      "9 2 3 1\n",
      "9 2 3 2\n"
     ]
    }
   ],
   "source": [
    "for d1 in range(1, 10):\n",
    "    for d2 in range(10):\n",
    "        for d3 in range(10):\n",
    "            for d4 in range(10):\n",
    "                trash, b, c = sorted([d1 + d2, d2 + d3, d3 + d4])\n",
    "                if b == 5 and c == 11:\n",
    "                  print(d1, d2, d3, d4)\n",
    "                # a = d1 + d2\n",
    "                # b = d2 + d3\n",
    "                # c = d3 + d4\n",
    "                # if a > b:\n",
    "                #     a, b = b, a\n",
    "                # if b > c:\n",
    "                #     c, b = b, c\n",
    "                # if a > b:\n",
    "                #     a, b = b, a\n",
    "                # print(a,b,c ,\"-\", d1, d2, d3, d4)\n"
   ]
  },
  {
   "cell_type": "code",
   "execution_count": 19,
   "metadata": {},
   "outputs": [
    {
     "data": {
      "text/plain": [
       "17"
      ]
     },
     "execution_count": 19,
     "metadata": {},
     "output_type": "execute_result"
    }
   ],
   "source": [
    "0b10001"
   ]
  },
  {
   "cell_type": "code",
   "execution_count": null,
   "metadata": {},
   "outputs": [],
   "source": [
    "for i in range(1000):\n",
    "  str(i).count()\n",
    "  \n",
    "  "
   ]
  },
  {
   "cell_type": "code",
   "execution_count": 7,
   "metadata": {},
   "outputs": [
    {
     "name": "stdout",
     "output_type": "stream",
     "text": [
      "21\n",
      "40\n",
      "46\n"
     ]
    }
   ],
   "source": [
    "for n in range(100000):\n",
    "  i = n\n",
    "  if i % 4 == 0:\n",
    "      i = i // 2\n",
    "  else:\n",
    "      i = i-1\n",
    "  if i % 5 == 0:\n",
    "      i = i // 5\n",
    "  else:\n",
    "      i = i-1\n",
    "  if i % 3 == 0:\n",
    "      i = i // 3\n",
    "  else:\n",
    "      i = i-1\n",
    "  if i == 3:\n",
    "    print(n)\n"
   ]
  },
  {
   "cell_type": "code",
   "execution_count": 4,
   "metadata": {},
   "outputs": [
    {
     "data": {
      "text/plain": [
       "0"
      ]
     },
     "execution_count": 4,
     "metadata": {},
     "output_type": "execute_result"
    }
   ],
   "source": [
    "24 % 4\n"
   ]
  },
  {
   "cell_type": "code",
   "execution_count": 22,
   "metadata": {},
   "outputs": [
    {
     "name": "stdout",
     "output_type": "stream",
     "text": [
      "0b1010 10\n",
      "0b1011 11\n",
      "0b1100 12\n",
      "0b1101 13\n",
      "0b1110 14\n",
      "0b1111 15\n",
      "0b10000 16\n",
      "0b10001 17\n",
      "0b10010 18\n",
      "0b10011 19\n",
      "0b10100 20\n",
      "0b10101 21\n",
      "0b10110 22\n",
      "0b10111 23\n",
      "0b11000 24\n",
      "0b11001 25\n",
      "0b11010 26\n",
      "0b11011 27\n",
      "0b11100 28\n",
      "0b11101 29\n",
      "0b11110 30\n",
      "0b11111 31\n",
      "0b100000 32\n",
      "0b100001 33\n",
      "0b100010 34\n",
      "0b100011 35\n",
      "0b100100 36\n",
      "0b100101 37\n",
      "0b100110 38\n"
     ]
    }
   ],
   "source": [
    "for i in range(10, 39):\n",
    "  print(bin(i) , i)"
   ]
  },
  {
   "cell_type": "code",
   "execution_count": 25,
   "metadata": {},
   "outputs": [
    {
     "data": {
      "text/plain": [
       "19"
      ]
     },
     "execution_count": 25,
     "metadata": {},
     "output_type": "execute_result"
    }
   ],
   "source": [
    "bin(151)\n",
    "0b10011"
   ]
  },
  {
   "cell_type": "code",
   "execution_count": 29,
   "metadata": {},
   "outputs": [
    {
     "name": "stdout",
     "output_type": "stream",
     "text": [
      "1024\n"
     ]
    }
   ],
   "source": [
    "s = int(input())\n",
    "s = s//3 + 324\n",
    "n = 1\n",
    "while s < 2021:\n",
    "    s = s + n\n",
    "    n = n * 2\n",
    "print (n)"
   ]
  },
  {
   "cell_type": "code",
   "execution_count": 41,
   "metadata": {},
   "outputs": [
    {
     "name": "stdout",
     "output_type": "stream",
     "text": [
      "84 243 2021\n",
      "85 243 2045\n",
      "86 243 2069\n",
      "87 243 2093\n"
     ]
    }
   ],
   "source": [
    "for i in range(70, 200):\n",
    "  d = i\n",
    "  n = 3\n",
    "  s = 5\n",
    "  while s < 2019:\n",
    "    s += d\n",
    "    n += 10\n",
    "  if n ==243:\n",
    "    print(d,n,s)"
   ]
  },
  {
   "cell_type": "code",
   "execution_count": 42,
   "metadata": {},
   "outputs": [
    {
     "name": "stdout",
     "output_type": "stream",
     "text": [
      "999\n"
     ]
    }
   ],
   "source": [
    "s = 219 * \"219\"\n",
    "while \"21\" in s or \"9999\" in s:\n",
    "  s= s.replace(\"21\", \"9\", 1)\n",
    "  s= s.replace(\"9999\", \"9\", 1)\n",
    "print(s)"
   ]
  },
  {
   "cell_type": "code",
   "execution_count": 43,
   "metadata": {},
   "outputs": [
    {
     "name": "stdout",
     "output_type": "stream",
     "text": [
      "2113\n"
     ]
    }
   ],
   "source": [
    "def f(n):\n",
    "  if n < 2:\n",
    "    return 1\n",
    "  if n > 1 and n % 2 == 0:\n",
    "    return 2 * f(n-1)\n",
    "  if n % 2 == 1 and n > 1:\n",
    "    return 4*n + f(n-2)\n",
    "print(f(45))\n"
   ]
  },
  {
   "cell_type": "code",
   "execution_count": 46,
   "metadata": {},
   "outputs": [
    {
     "name": "stdout",
     "output_type": "stream",
     "text": [
      "\n",
      "\n",
      "\n",
      "\n",
      "\n",
      "\n",
      "\n",
      "\n",
      "\n",
      "\n",
      "\n",
      "\n",
      "\n",
      "\n",
      "\n",
      "\n",
      "\n",
      "\n",
      "\n",
      "\n",
      "\n",
      "\n",
      "\n",
      "\n",
      "\n",
      "\n",
      "\n",
      "\n",
      "\n",
      "\n",
      "\n",
      "\n",
      "\n",
      "\n",
      "\n",
      "\n",
      "\n",
      "\n",
      "\n",
      "\n",
      "\n",
      "\n",
      "\n",
      "\n",
      "\n",
      "\n",
      "\n"
     ]
    },
    {
     "ename": "KeyboardInterrupt",
     "evalue": "",
     "output_type": "error",
     "traceback": [
      "\u001b[1;31m---------------------------------------------------------------------------\u001b[0m",
      "\u001b[1;31mKeyboardInterrupt\u001b[0m                         Traceback (most recent call last)",
      "Cell \u001b[1;32mIn [46], line 10\u001b[0m\n\u001b[0;32m      8\u001b[0m \u001b[39mfor\u001b[39;00m i \u001b[39min\u001b[39;00m \u001b[39mrange\u001b[39m(\u001b[39m100000\u001b[39m):\n\u001b[0;32m      9\u001b[0m   j \u001b[39m=\u001b[39m \u001b[39m\"\u001b[39m\u001b[39m\"\u001b[39m\n\u001b[1;32m---> 10\u001b[0m   F(i)\n\u001b[0;32m     11\u001b[0m   \u001b[39mprint\u001b[39m(j)\n",
      "Cell \u001b[1;32mIn [46], line 6\u001b[0m, in \u001b[0;36mF\u001b[1;34m(n)\u001b[0m\n\u001b[0;32m      4\u001b[0m \u001b[39mif\u001b[39;00m n \u001b[39m>\u001b[39m \u001b[39m1\u001b[39m:\n\u001b[0;32m      5\u001b[0m   j \u001b[39m=\u001b[39m \u001b[39mstr\u001b[39m(\u001b[39m3\u001b[39m\u001b[39m*\u001b[39mn \u001b[39m-\u001b[39m \u001b[39m8\u001b[39m)\n\u001b[1;32m----> 6\u001b[0m   F(n \u001b[39m-\u001b[39;49m \u001b[39m1\u001b[39;49m)\n\u001b[0;32m      7\u001b[0m   F(n \u001b[39m-\u001b[39m \u001b[39m4\u001b[39m)\n",
      "Cell \u001b[1;32mIn [46], line 6\u001b[0m, in \u001b[0;36mF\u001b[1;34m(n)\u001b[0m\n\u001b[0;32m      4\u001b[0m \u001b[39mif\u001b[39;00m n \u001b[39m>\u001b[39m \u001b[39m1\u001b[39m:\n\u001b[0;32m      5\u001b[0m   j \u001b[39m=\u001b[39m \u001b[39mstr\u001b[39m(\u001b[39m3\u001b[39m\u001b[39m*\u001b[39mn \u001b[39m-\u001b[39m \u001b[39m8\u001b[39m)\n\u001b[1;32m----> 6\u001b[0m   F(n \u001b[39m-\u001b[39;49m \u001b[39m1\u001b[39;49m)\n\u001b[0;32m      7\u001b[0m   F(n \u001b[39m-\u001b[39m \u001b[39m4\u001b[39m)\n",
      "    \u001b[1;31m[... skipping similar frames: F at line 6 (1 times)]\u001b[0m\n",
      "Cell \u001b[1;32mIn [46], line 7\u001b[0m, in \u001b[0;36mF\u001b[1;34m(n)\u001b[0m\n\u001b[0;32m      5\u001b[0m j \u001b[39m=\u001b[39m \u001b[39mstr\u001b[39m(\u001b[39m3\u001b[39m\u001b[39m*\u001b[39mn \u001b[39m-\u001b[39m \u001b[39m8\u001b[39m)\n\u001b[0;32m      6\u001b[0m F(n \u001b[39m-\u001b[39m \u001b[39m1\u001b[39m)\n\u001b[1;32m----> 7\u001b[0m F(n \u001b[39m-\u001b[39;49m \u001b[39m4\u001b[39;49m)\n",
      "    \u001b[1;31m[... skipping similar frames: F at line 6 (2 times)]\u001b[0m\n",
      "Cell \u001b[1;32mIn [46], line 7\u001b[0m, in \u001b[0;36mF\u001b[1;34m(n)\u001b[0m\n\u001b[0;32m      5\u001b[0m j \u001b[39m=\u001b[39m \u001b[39mstr\u001b[39m(\u001b[39m3\u001b[39m\u001b[39m*\u001b[39mn \u001b[39m-\u001b[39m \u001b[39m8\u001b[39m)\n\u001b[0;32m      6\u001b[0m F(n \u001b[39m-\u001b[39m \u001b[39m1\u001b[39m)\n\u001b[1;32m----> 7\u001b[0m F(n \u001b[39m-\u001b[39;49m \u001b[39m4\u001b[39;49m)\n",
      "    \u001b[1;31m[... skipping similar frames: F at line 6 (11 times), F at line 7 (3 times)]\u001b[0m\n",
      "Cell \u001b[1;32mIn [46], line 7\u001b[0m, in \u001b[0;36mF\u001b[1;34m(n)\u001b[0m\n\u001b[0;32m      5\u001b[0m j \u001b[39m=\u001b[39m \u001b[39mstr\u001b[39m(\u001b[39m3\u001b[39m\u001b[39m*\u001b[39mn \u001b[39m-\u001b[39m \u001b[39m8\u001b[39m)\n\u001b[0;32m      6\u001b[0m F(n \u001b[39m-\u001b[39m \u001b[39m1\u001b[39m)\n\u001b[1;32m----> 7\u001b[0m F(n \u001b[39m-\u001b[39;49m \u001b[39m4\u001b[39;49m)\n",
      "    \u001b[1;31m[... skipping similar frames: F at line 6 (5 times)]\u001b[0m\n",
      "Cell \u001b[1;32mIn [46], line 6\u001b[0m, in \u001b[0;36mF\u001b[1;34m(n)\u001b[0m\n\u001b[0;32m      4\u001b[0m \u001b[39mif\u001b[39;00m n \u001b[39m>\u001b[39m \u001b[39m1\u001b[39m:\n\u001b[0;32m      5\u001b[0m   j \u001b[39m=\u001b[39m \u001b[39mstr\u001b[39m(\u001b[39m3\u001b[39m\u001b[39m*\u001b[39mn \u001b[39m-\u001b[39m \u001b[39m8\u001b[39m)\n\u001b[1;32m----> 6\u001b[0m   F(n \u001b[39m-\u001b[39;49m \u001b[39m1\u001b[39;49m)\n\u001b[0;32m      7\u001b[0m   F(n \u001b[39m-\u001b[39m \u001b[39m4\u001b[39m)\n",
      "Cell \u001b[1;32mIn [46], line 3\u001b[0m, in \u001b[0;36mF\u001b[1;34m(n)\u001b[0m\n\u001b[0;32m      2\u001b[0m \u001b[39mdef\u001b[39;00m \u001b[39mF\u001b[39m(n):\n\u001b[1;32m----> 3\u001b[0m   j \u001b[39m=\u001b[39m \u001b[39mstr\u001b[39;49m(n \u001b[39m+\u001b[39;49m \u001b[39m2\u001b[39;49m\u001b[39m*\u001b[39;49mn \u001b[39m+\u001b[39;49m \u001b[39m1\u001b[39;49m)\n\u001b[0;32m      4\u001b[0m   \u001b[39mif\u001b[39;00m n \u001b[39m>\u001b[39m \u001b[39m1\u001b[39m:\n\u001b[0;32m      5\u001b[0m     j \u001b[39m=\u001b[39m \u001b[39mstr\u001b[39m(\u001b[39m3\u001b[39m\u001b[39m*\u001b[39mn \u001b[39m-\u001b[39m \u001b[39m8\u001b[39m)\n",
      "\u001b[1;31mKeyboardInterrupt\u001b[0m: "
     ]
    }
   ],
   "source": [
    "j = \"\"\n",
    "def F(n):\n",
    "  j = str(n + 2*n + 1)\n",
    "  if n > 1:\n",
    "    j = str(3*n - 8)\n",
    "    F(n - 1)\n",
    "    F(n - 4)\n",
    "for i in range(100000):\n",
    "  j = \"\"\n",
    "  F(i)\n",
    "  print(j)"
   ]
  }
 ],
 "metadata": {
  "kernelspec": {
   "display_name": "Python 3.10.4 64-bit",
   "language": "python",
   "name": "python3"
  },
  "language_info": {
   "codemirror_mode": {
    "name": "ipython",
    "version": 3
   },
   "file_extension": ".py",
   "mimetype": "text/x-python",
   "name": "python",
   "nbconvert_exporter": "python",
   "pygments_lexer": "ipython3",
   "version": "3.10.4"
  },
  "orig_nbformat": 4,
  "vscode": {
   "interpreter": {
    "hash": "369f2c481f4da34e4445cda3fffd2e751bd1c4d706f27375911949ba6bb62e1c"
   }
  }
 },
 "nbformat": 4,
 "nbformat_minor": 2
}
