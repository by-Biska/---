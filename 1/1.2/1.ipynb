{
 "cells": [
  {
   "cell_type": "code",
   "execution_count": 6,
   "metadata": {},
   "outputs": [
    {
     "name": "stdout",
     "output_type": "stream",
     "text": [
      "1 1\n",
      "3 2\n",
      "1 1\n",
      "6 2\n",
      "1 1\n",
      "3 2\n",
      "1 1\n",
      "10 2\n",
      "1 1\n",
      "3 2\n",
      "1 1\n",
      "6 2\n",
      "1 1\n",
      "3 2\n",
      "1 1\n",
      "10\n"
     ]
    }
   ],
   "source": [
    "def s(x):\n",
    "  if x<10:\n",
    "    print(x, 1)\n",
    "    return x\n",
    "  else:\n",
    "    print(s(x // 10) + x % 10, 2)\n",
    "    return s(x // 10) + x % 10\n",
    "print(s(1234))"
   ]
  },
  {
   "cell_type": "code",
   "execution_count": 10,
   "metadata": {},
   "outputs": [
    {
     "name": "stdout",
     "output_type": "stream",
     "text": [
      "610\n"
     ]
    }
   ],
   "source": [
    "from functools import lru_cache\n",
    "\n",
    "@lru_cache()\n",
    "def fibonacci(n):\n",
    "  if n > 2:\n",
    "    return fibonacci(n- 1) + fibonacci(n -2)\n",
    "  else:\n",
    "    return 1\n",
    "\n",
    "print(fibonacci(15))"
   ]
  },
  {
   "cell_type": "code",
   "execution_count": 11,
   "metadata": {},
   "outputs": [
    {
     "name": "stdout",
     "output_type": "stream",
     "text": [
      "19683\n"
     ]
    }
   ],
   "source": [
    "def f(n):\n",
    "  if n < 2:\n",
    "    return n\n",
    "  elif n % 2 == 0 and n > 1:\n",
    "    return f(n-2) + f(n-1)\n",
    "  elif n % 2 != 0 and n > 1:\n",
    "    return 2* f(n-1)\n",
    "print(f(20))"
   ]
  },
  {
   "cell_type": "code",
   "execution_count": 2,
   "metadata": {},
   "outputs": [
    {
     "name": "stdout",
     "output_type": "stream",
     "text": [
      "20\n"
     ]
    }
   ],
   "source": [
    "a = 100\n",
    "b = 30\n",
    "a = a - b * 3\n",
    "if a > b:\n",
    "    c = a - b\n",
    "else:\n",
    "    c = b - a\n",
    "print(c)"
   ]
  },
  {
   "cell_type": "code",
   "execution_count": 3,
   "metadata": {},
   "outputs": [
    {
     "name": "stdout",
     "output_type": "stream",
     "text": [
      "=)))\n"
     ]
    }
   ],
   "source": [
    "def f(x):\n",
    "  if x <= 7:\n",
    "      return '='\n",
    "  else:\n",
    "      return f(x // 3) + ')'\n",
    "print(f(78))"
   ]
  },
  {
   "cell_type": "code",
   "execution_count": 13,
   "metadata": {},
   "outputs": [
    {
     "name": "stdout",
     "output_type": "stream",
     "text": [
      "89\n"
     ]
    }
   ],
   "source": [
    "def F(n):\n",
    "  if n > 2:\n",
    "    return F(n-1) + F(n-2)\n",
    "  else: return 1\n",
    "print(F(11))"
   ]
  },
  {
   "cell_type": "code",
   "execution_count": 20,
   "metadata": {},
   "outputs": [
    {
     "name": "stdout",
     "output_type": "stream",
     "text": [
      "1649267441623\n"
     ]
    }
   ],
   "source": [
    "def f(n):\n",
    "    if n == 1:\n",
    "        return 1\n",
    "    else:\n",
    "        return (n + 2 * f(n - 1) - 1)\n",
    "\n",
    "\n",
    "print(f(40))\n"
   ]
  },
  {
   "cell_type": "code",
   "execution_count": 17,
   "metadata": {},
   "outputs": [
    {
     "name": "stdout",
     "output_type": "stream",
     "text": [
      "None\n"
     ]
    }
   ],
   "source": [
    "def F(n):\n",
    "   if n > 0:\n",
    "      F(n - 3)\n",
    "      F(n // 3)\n",
    "print(F(9))"
   ]
  },
  {
   "cell_type": "code",
   "execution_count": 26,
   "metadata": {},
   "outputs": [
    {
     "name": "stdout",
     "output_type": "stream",
     "text": [
      "3489675\n"
     ]
    }
   ],
   "source": [
    "numbers = []\n",
    "for i in range(1000, 10000):\n",
    "  if int(str(i)[0]) + int(str(i)[1]) + int(str(i)[2]) + int(str(i)[3]) == 20:\n",
    "    numbers.append(i)\n",
    "print(sum(numbers))"
   ]
  },
  {
   "cell_type": "code",
   "execution_count": 23,
   "metadata": {},
   "outputs": [
    {
     "name": "stdout",
     "output_type": "stream",
     "text": [
      "<class 'str'>\n"
     ]
    }
   ],
   "source": [
    "i = 2345\n",
    "print(type(str(i)[0]))"
   ]
  },
  {
   "cell_type": "code",
   "execution_count": 30,
   "metadata": {},
   "outputs": [
    {
     "name": "stdout",
     "output_type": "stream",
     "text": [
      "10\n"
     ]
    }
   ],
   "source": [
    "def f(x, y):\n",
    "    return x + y[0] + y[1]\n",
    "a =[1, [4, 5]]\n",
    "rezult = f(*a)\n",
    "print(rezult)"
   ]
  },
  {
   "cell_type": "code",
   "execution_count": 31,
   "metadata": {},
   "outputs": [
    {
     "name": "stdout",
     "output_type": "stream",
     "text": [
      "3\n"
     ]
    }
   ],
   "source": [
    "def A(x):\n",
    "    if x > 0:\n",
    "        return B(x-1) + C(-x+1)\n",
    "    return A(x-1) + D(x+1)\n",
    "\n",
    "def B(x):\n",
    "    if x < 0:\n",
    "        return B(x-1) + C(x+1)\n",
    "    return C(-x)\n",
    "\n",
    "def C(x):\n",
    "    if x > 0:\n",
    "        return A(x) + B(x+1)\n",
    "    return D(-x+1)\n",
    "\n",
    "def D(x):\n",
    "    if x < 0:\n",
    "        return 1\n",
    "    return D(-x)\n",
    "\n",
    "print(C(1))"
   ]
  },
  {
   "cell_type": "code",
   "execution_count": null,
   "metadata": {},
   "outputs": [],
   "source": [
    "def f(x, y):\n",
    "    return x + y\n",
    "a = [4, 5]\n",
    "rezult = f(*a)"
   ]
  }
 ],
 "metadata": {
  "kernelspec": {
   "display_name": "Python 3.10.4 64-bit",
   "language": "python",
   "name": "python3"
  },
  "language_info": {
   "codemirror_mode": {
    "name": "ipython",
    "version": 3
   },
   "file_extension": ".py",
   "mimetype": "text/x-python",
   "name": "python",
   "nbconvert_exporter": "python",
   "pygments_lexer": "ipython3",
   "version": "3.10.4"
  },
  "orig_nbformat": 4,
  "vscode": {
   "interpreter": {
    "hash": "369f2c481f4da34e4445cda3fffd2e751bd1c4d706f27375911949ba6bb62e1c"
   }
  }
 },
 "nbformat": 4,
 "nbformat_minor": 2
}
