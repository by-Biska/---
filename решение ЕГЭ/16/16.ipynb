{
 "cells": [
  {
   "cell_type": "markdown",
   "metadata": {},
   "source": [
    "5605"
   ]
  },
  {
   "cell_type": "code",
   "execution_count": 2,
   "metadata": {},
   "outputs": [
    {
     "name": "stdout",
     "output_type": "stream",
     "text": [
      "62820\n"
     ]
    }
   ],
   "source": [
    "def f(n):\n",
    " if n <= 1:\n",
    "   return 0\n",
    " elif n > 1 and n % 2 != 0:\n",
    "   return f(n-1) + 3 * n**2\n",
    " elif n > 1 and n % 2 == 0:\n",
    "   return n // 2 + f(n-1) + 2\n",
    "print(f(49))"
   ]
  },
  {
   "cell_type": "code",
   "execution_count": 1,
   "metadata": {},
   "outputs": [
    {
     "data": {
      "text/plain": [
       "5.0"
      ]
     },
     "execution_count": 1,
     "metadata": {},
     "output_type": "execute_result"
    }
   ],
   "source": [
    "10 / 2"
   ]
  },
  {
   "cell_type": "code",
   "execution_count": 3,
   "metadata": {},
   "outputs": [
    {
     "name": "stdout",
     "output_type": "stream",
     "text": [
      "3194\n"
     ]
    }
   ],
   "source": [
    "def f(n):\n",
    "    if n < 3:\n",
    "        return 2\n",
    "    elif n > 2 and n % 2 == 0:\n",
    "        return f(n-2) + f(n-1)-n\n",
    "    elif n > 2 and n % 2 != 0:\n",
    "        return f(n-1)-f(n-2) + 2*n\n",
    "print(f(32))"
   ]
  },
  {
   "cell_type": "code",
   "execution_count": 5,
   "metadata": {},
   "outputs": [
    {
     "name": "stdout",
     "output_type": "stream",
     "text": [
      "8266912626\n"
     ]
    }
   ],
   "source": [
    "def f(n):\n",
    "    if n == 1:\n",
    "        return 1\n",
    "    else:\n",
    "        return n*f(n-1)\n",
    "\n",
    "\n",
    "print(f(2023)//f(2020))\n"
   ]
  }
 ],
 "metadata": {
  "kernelspec": {
   "display_name": "Python 3.10.4 64-bit",
   "language": "python",
   "name": "python3"
  },
  "language_info": {
   "codemirror_mode": {
    "name": "ipython",
    "version": 3
   },
   "file_extension": ".py",
   "mimetype": "text/x-python",
   "name": "python",
   "nbconvert_exporter": "python",
   "pygments_lexer": "ipython3",
   "version": "3.10.4"
  },
  "orig_nbformat": 4,
  "vscode": {
   "interpreter": {
    "hash": "369f2c481f4da34e4445cda3fffd2e751bd1c4d706f27375911949ba6bb62e1c"
   }
  }
 },
 "nbformat": 4,
 "nbformat_minor": 2
}
