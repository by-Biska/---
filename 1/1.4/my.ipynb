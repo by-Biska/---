{
 "cells": [
  {
   "cell_type": "code",
   "execution_count": 1,
   "metadata": {},
   "outputs": [],
   "source": [
    "def sorter(n):\n",
    "    if n < 5:\n",
    "      if n < 0:\n",
    "          print(\"A\")\n",
    "      else:\n",
    "          print(\"B\")\n",
    "    else:\n",
    "      if n < 10:\n",
    "        print(\"C\")\n",
    "      else:\n",
    "        print(\"D\")\n"
   ]
  },
  {
   "cell_type": "code",
   "execution_count": 2,
   "metadata": {},
   "outputs": [
    {
     "data": {
      "text/plain": [
       "False"
      ]
     },
     "execution_count": 2,
     "metadata": {},
     "output_type": "execute_result"
    }
   ],
   "source": [
    "bool(None)"
   ]
  },
  {
   "cell_type": "code",
   "execution_count": 3,
   "metadata": {},
   "outputs": [
    {
     "name": "stdout",
     "output_type": "stream",
     "text": [
      "440.0\n"
     ]
    }
   ],
   "source": [
    "a = 40\n",
    "b = 10\n",
    "b = - a / 2 * b\n",
    "if a < b:\n",
    "  c = b - a\n",
    "else:\n",
    "  c = a - 2 * b\n",
    "print(c)"
   ]
  },
  {
   "cell_type": "code",
   "execution_count": 7,
   "metadata": {},
   "outputs": [
    {
     "name": "stdout",
     "output_type": "stream",
     "text": [
      "16 181 41\n",
      "YES\n"
     ]
    }
   ],
   "source": [
    "x,y = map(int, input().split())\n",
    "age = 15 + x ** y % 10\n",
    "growth = 150 +x ** y % 50\n",
    "weight = 40 + x ** y % 80\n",
    "print(age, growth, weight)\n",
    "if age >=16 and age <= 20 and growth >=170 and weight <= 80:\n",
    "  print(\"YES\")\n",
    "else: \n",
    "  print(\"NO\")"
   ]
  },
  {
   "cell_type": "code",
   "execution_count": 8,
   "metadata": {},
   "outputs": [
    {
     "name": "stdout",
     "output_type": "stream",
     "text": [
      "52\n"
     ]
    }
   ],
   "source": [
    "a = 21\n",
    "b = a - 3\n",
    "c = a + b * 2\n",
    "if a > c:\n",
    "    a = a + 3\n",
    "    print(a)\n",
    "elif b > c:\n",
    "    b = b - 2\n",
    "    print(b)\n",
    "else:\n",
    "    print(c - 5)"
   ]
  },
  {
   "cell_type": "code",
   "execution_count": 22,
   "metadata": {},
   "outputs": [
    {
     "name": "stdout",
     "output_type": "stream",
     "text": [
      "2028\n",
      "2046\n",
      "2064\n",
      "2082\n",
      "2118\n",
      "2136\n",
      "2154\n",
      "2172\n",
      "2190\n",
      "2208\n",
      "2226\n",
      "2244\n",
      "2262\n",
      "2280\n",
      "2316\n",
      "2334\n",
      "2352\n",
      "2370\n",
      "2406\n",
      "2424\n",
      "2442\n",
      "2460\n",
      "2514\n",
      "2532\n",
      "2550\n",
      "2604\n",
      "2622\n",
      "2640\n",
      "2712\n",
      "2730\n",
      "2802\n",
      "2820\n",
      "2910\n",
      "4008\n",
      "4026\n",
      "4044\n",
      "4062\n",
      "4080\n",
      "4116\n",
      "4134\n",
      "4152\n",
      "4170\n",
      "4206\n",
      "4224\n",
      "4242\n",
      "4260\n",
      "4314\n",
      "4332\n",
      "4350\n",
      "4404\n",
      "4422\n",
      "4440\n",
      "4512\n",
      "4530\n",
      "4602\n",
      "4620\n",
      "4710\n",
      "4800\n",
      "6006\n",
      "6024\n",
      "6042\n",
      "6060\n",
      "6114\n",
      "6132\n",
      "6150\n",
      "6204\n",
      "6222\n",
      "6240\n",
      "6312\n",
      "6330\n",
      "6402\n",
      "6420\n",
      "6510\n",
      "6600\n",
      "8004\n",
      "8022\n",
      "8040\n",
      "8112\n",
      "8130\n",
      "8202\n",
      "8220\n",
      "8310\n",
      "8400\n"
     ]
    }
   ],
   "source": [
    "def numberMachine(n):\n",
    "  b = []\n",
    "  while n > 0:\n",
    "    b.append(n % 10)\n",
    "    n = n // 10\n",
    "  b = b[::-1]\n",
    "  return b\n",
    "\n",
    "for i in range(1000, 10000):\n",
    "    numberList = numberMachine(i)\n",
    "    if sum(numberList) == 12 and numberList[0] % 2 == 0 and numberList[3] % 2 == 0:\n",
    "      print(i)"
   ]
  },
  {
   "cell_type": "code",
   "execution_count": 20,
   "metadata": {},
   "outputs": [
    {
     "name": "stdout",
     "output_type": "stream",
     "text": [
      "[3, 8, 7]\n"
     ]
    }
   ],
   "source": [
    "a= 387\n",
    "def numberMachine(n):\n",
    "  b = []\n",
    "  while n > 0:\n",
    "    b.append(n % 10)\n",
    "    n = n // 10\n",
    "  b = b[::-1]\n",
    "  return b\n",
    "  \n",
    "print(numberMachine(a))"
   ]
  },
  {
   "cell_type": "code",
   "execution_count": null,
   "metadata": {},
   "outputs": [],
   "source": [
    "x = int(input())\n",
    "y = int(input())\n",
    "if x >= 10 or y < 20:\n",
    "    print(\"YES\")\n",
    "else:\n",
    "    print(\"NO\")"
   ]
  },
  {
   "cell_type": "code",
   "execution_count": 32,
   "metadata": {},
   "outputs": [
    {
     "name": "stdout",
     "output_type": "stream",
     "text": [
      "-9\n",
      "3\n"
     ]
    }
   ],
   "source": [
    "mx=None\n",
    "s=0\n",
    "for i in range (4):\n",
    "    x = int(input())\n",
    "    if x < 0:\n",
    "        s = s + x\n",
    "    if x > mx:\n",
    "        mx = x\n",
    "print(s)\n",
    "print(mx)"
   ]
  },
  {
   "cell_type": "code",
   "execution_count": 33,
   "metadata": {},
   "outputs": [
    {
     "name": "stdout",
     "output_type": "stream",
     "text": [
      "-4\n",
      "3\n"
     ]
    }
   ],
   "source": [
    "mx=0\n",
    "s=0\n",
    "for i in range (4):\n",
    "    x = int(input())\n",
    "    if x < 0:\n",
    "        s = x\n",
    "    if x > mx:\n",
    "        mx = x\n",
    "print(s)\n",
    "print(mx)"
   ]
  },
  {
   "cell_type": "code",
   "execution_count": null,
   "metadata": {},
   "outputs": [],
   "source": [
    "x = float(input())\n",
    "y = float(input())\n",
    "if y <= 2-x:\n",
    "    if y >= 0:\n",
    "        if y >= x*x:\n",
    "            print('принадлежит')\n",
    "        else:\n",
    "            print('не принадлежит')"
   ]
  },
  {
   "cell_type": "code",
   "execution_count": null,
   "metadata": {},
   "outputs": [],
   "source": [
    "x = float(input())\n",
    "y = float(input())\n",
    "if y <= 2-x:\n",
    "    if y >= 0:\n",
    "        if y >= x*x:\n",
    "            print('принадлежит')\n",
    "        else:\n",
    "            print('не принадлежит')"
   ]
  },
  {
   "cell_type": "code",
   "execution_count": 39,
   "metadata": {},
   "outputs": [],
   "source": [
    "x = int(input())\n",
    "y = int(input())\n",
    "r1 = int(input())\n",
    "r2 = int(input())\n",
    "h = (x ** 2 + y ** 2) ** 0.5\n",
    "if r2 > r1:\n",
    "  if h < r2 and h > r1:\n",
    "    print('точка A лежит внутри кольца')\n",
    "else:\n",
    "  if h > r2 and h < r1:\n",
    "    print('точка A лежит внутри кольца')"
   ]
  },
  {
   "cell_type": "code",
   "execution_count": null,
   "metadata": {},
   "outputs": [],
   "source": [
    "x = *\n",
    "y = 7\n",
    "if x < y:\n",
    "    x = y + 1\n",
    "else:\n",
    "    y = x + 1\n",
    "print(x, y)"
   ]
  },
  {
   "cell_type": "code",
   "execution_count": 46,
   "metadata": {},
   "outputs": [
    {
     "name": "stdout",
     "output_type": "stream",
     "text": [
      "YES\n"
     ]
    }
   ],
   "source": [
    "b = int(input())\n",
    "a = int(input())\n",
    "if (a >= 5) and (b < 30):\n",
    "    print(\"YES\")\n",
    "else:\n",
    "    print(\"NO\")"
   ]
  }
 ],
 "metadata": {
  "kernelspec": {
   "display_name": "Python 3.10.4 64-bit",
   "language": "python",
   "name": "python3"
  },
  "language_info": {
   "codemirror_mode": {
    "name": "ipython",
    "version": 3
   },
   "file_extension": ".py",
   "mimetype": "text/x-python",
   "name": "python",
   "nbconvert_exporter": "python",
   "pygments_lexer": "ipython3",
   "version": "3.10.4"
  },
  "orig_nbformat": 4,
  "vscode": {
   "interpreter": {
    "hash": "369f2c481f4da34e4445cda3fffd2e751bd1c4d706f27375911949ba6bb62e1c"
   }
  }
 },
 "nbformat": 4,
 "nbformat_minor": 2
}
