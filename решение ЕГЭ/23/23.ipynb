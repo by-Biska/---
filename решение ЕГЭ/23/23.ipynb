{
 "cells": [
  {
   "cell_type": "code",
   "execution_count": null,
   "metadata": {},
   "outputs": [],
   "source": [
    "def F(x, y):\n",
    "    if x == y:\n",
    "        return 1\n",
    "\n",
    "    if x > y:\n",
    "        return 0\n",
    "\n",
    "    if x < y:\n",
    "        return F(x+3, y) + F(x*2, y)\n",
    "\n",
    "\n",
    "print(F(1, 25))\n"
   ]
  },
  {
   "cell_type": "code",
   "execution_count": 14,
   "metadata": {},
   "outputs": [
    {
     "name": "stdout",
     "output_type": "stream",
     "text": [
      "98\n"
     ]
    }
   ],
   "source": [
    "def f(x , y):\n",
    "  if x > y or x == 17: return 0\n",
    "  \n",
    "  if x == y: return 1\n",
    "  \n",
    "  return f(x + 1, y) + f(x * 2, y)\n",
    "\n",
    "print(f(1, 10) * f(10, 35))"
   ]
  },
  {
   "cell_type": "markdown",
   "metadata": {},
   "source": [
    "23(1-2023)"
   ]
  },
  {
   "cell_type": "code",
   "execution_count": 1,
   "metadata": {},
   "outputs": [
    {
     "name": "stdout",
     "output_type": "stream",
     "text": [
      "2340\n"
     ]
    }
   ],
   "source": [
    "def f(x, y):\n",
    "  if x == y: return 1\n",
    "  \n",
    "  if x < 1: return 0\n",
    "  \n",
    "  return f(x-1, y) + f(x//2, y)\n",
    "  \n",
    "print(f(50, 20) * f(20, 1))"
   ]
  },
  {
   "cell_type": "code",
   "execution_count": 2,
   "metadata": {},
   "outputs": [
    {
     "name": "stdout",
     "output_type": "stream",
     "text": [
      "1956\n"
     ]
    }
   ],
   "source": [
    "def f(x , y):\n",
    "  if x == y: return 1\n",
    "  \n",
    "  if x < y: return 0\n",
    "  \n",
    "  return f(x-1, y) + f(x//2, y)\n",
    "\n",
    "print(f(60 ,10) * f(10, 2))"
   ]
  },
  {
   "cell_type": "code",
   "execution_count": 9,
   "metadata": {},
   "outputs": [
    {
     "data": {
      "text/plain": [
       "'0b1001'"
      ]
     },
     "execution_count": 9,
     "metadata": {},
     "output_type": "execute_result"
    }
   ],
   "source": [
    "bin(9)"
   ]
  }
 ],
 "metadata": {
  "kernelspec": {
   "display_name": "Python 3.10.4 64-bit",
   "language": "python",
   "name": "python3"
  },
  "language_info": {
   "codemirror_mode": {
    "name": "ipython",
    "version": 3
   },
   "file_extension": ".py",
   "mimetype": "text/x-python",
   "name": "python",
   "nbconvert_exporter": "python",
   "pygments_lexer": "ipython3",
   "version": "3.10.4"
  },
  "orig_nbformat": 4,
  "vscode": {
   "interpreter": {
    "hash": "369f2c481f4da34e4445cda3fffd2e751bd1c4d706f27375911949ba6bb62e1c"
   }
  }
 },
 "nbformat": 4,
 "nbformat_minor": 2
}
