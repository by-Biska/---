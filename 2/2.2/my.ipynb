{
 "cells": [
  {
   "cell_type": "code",
   "execution_count": 2,
   "metadata": {
    "pycharm": {
     "name": "#%%\n"
    }
   },
   "outputs": [
    {
     "name": "stdout",
     "output_type": "stream",
     "text": [
      "3915418327292180232219\n"
     ]
    }
   ],
   "source": [
    "def digit_value(symbol):\n",
    "    symbol = symbol.lower()\n",
    "    if '0' <= symbol <= '9':\n",
    "        return ord(symbol) - ord('0')\n",
    "    elif 'a' <= symbol <= 'z':\n",
    "        return 10 + ord(symbol) - ord('a')\n",
    "    else:\n",
    "        return 0\n",
    "\n",
    "\n",
    "base = int(input(\"Enter base:\"))\n",
    "number = input(\"Enter the number:\")\n",
    "x = 0\n",
    "for digit in number:\n",
    "    x = x * base + digit_value(digit)\n",
    "print(x)"
   ]
  },
  {
   "cell_type": "code",
   "execution_count": 3,
   "metadata": {
    "pycharm": {
     "name": "#%%\n"
    }
   },
   "outputs": [
    {
     "data": {
      "text/plain": [
       "3915418327292180232219"
      ]
     },
     "execution_count": 3,
     "metadata": {},
     "output_type": "execute_result"
    }
   ],
   "source": [
    "int(\"MYBIGNUMBER123\", 36)"
   ]
  },
  {
   "cell_type": "code",
   "execution_count": 7,
   "metadata": {
    "pycharm": {
     "name": "#%%\n"
    }
   },
   "outputs": [
    {
     "name": "stdout",
     "output_type": "stream",
     "text": [
      "2\n"
     ]
    }
   ],
   "source": [
    "def symbol_for_digit(digit):\n",
    "    return chr(ord('0') + digit)\n",
    "\n",
    "\n",
    "number = int(input(\"Enter the number in decimal system:\"))\n",
    "base = int(input(\"Enter base:\"))\n",
    "number_digits_for_base = \"\"\n",
    "while number != 0:\n",
    "    digit = number % base\n",
    "    number_digits_for_base = symbol_for_digit(digit) + number_digits_for_base\n",
    "    number = number // base\n",
    "print(number_digits_for_base)"
   ]
  },
  {
   "cell_type": "code",
   "execution_count": 12,
   "metadata": {
    "pycharm": {
     "name": "#%%\n"
    }
   },
   "outputs": [
    {
     "name": "stdout",
     "output_type": "stream",
     "text": [
      "230\n",
      "185\n",
      "170\n",
      "214\n",
      "184\n",
      "240\n"
     ]
    }
   ],
   "source": [
    "print(0b11100110)\n",
    "print(0o271)\n",
    "print(0xAA)\n",
    "print(0xD6)\n",
    "print(0xB8)\n",
    "print(0xF0)"
   ]
  },
  {
   "cell_type": "code",
   "execution_count": 1,
   "outputs": [
    {
     "data": {
      "text/plain": "0"
     },
     "execution_count": 1,
     "metadata": {},
     "output_type": "execute_result"
    }
   ],
   "source": [
    "0 % 3"
   ],
   "metadata": {
    "collapsed": false,
    "pycharm": {
     "name": "#%%\n"
    }
   }
  },
  {
   "cell_type": "code",
   "execution_count": null,
   "outputs": [],
   "source": [],
   "metadata": {
    "collapsed": false,
    "pycharm": {
     "name": "#%%\n"
    }
   }
  }
 ],
 "metadata": {
  "kernelspec": {
   "display_name": "Python 3.10.4 64-bit",
   "language": "python",
   "name": "python3"
  },
  "language_info": {
   "codemirror_mode": {
    "name": "ipython",
    "version": 3
   },
   "file_extension": ".py",
   "mimetype": "text/x-python",
   "name": "python",
   "nbconvert_exporter": "python",
   "pygments_lexer": "ipython3",
   "version": "3.10.4"
  },
  "orig_nbformat": 4,
  "vscode": {
   "interpreter": {
    "hash": "369f2c481f4da34e4445cda3fffd2e751bd1c4d706f27375911949ba6bb62e1c"
   }
  }
 },
 "nbformat": 4,
 "nbformat_minor": 2
}