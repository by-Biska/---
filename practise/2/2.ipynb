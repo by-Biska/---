{
 "cells": [
  {
   "cell_type": "code",
   "execution_count": null,
   "outputs": [],
   "source": [
    " print(\"x y z w\")\n",
    "for x in range(0, 2):\n",
    "    for y in range(0, 2):\n",
    "        for w in range(0, 2):\n",
    "            for w in range(0, 2):\n",
    "                for z in range(0, 2):\n",
    "                    if (not (w) or z) and ((not (y) or x) == (not (z) or y)):\n",
    "                        print(x, y, z, w)"
   ],
   "metadata": {
    "collapsed": false,
    "pycharm": {
     "name": "#%%\n"
    }
   }
  },
  {
   "cell_type": "code",
   "execution_count": null,
   "outputs": [],
   "source": [
    "print(\"x y z w\")\n",
    "for x in range(0, 2):\n",
    "    for y in range(0, 2):\n",
    "        for z in range(0, 2):\n",
    "            for w in range(0, 2):\n",
    "                if not (x == (not (y))) or ((x and w) == z):\n",
    "                    print(x, y, z, w)"
   ],
   "metadata": {
    "collapsed": false,
    "pycharm": {
     "name": "#%%\n"
    }
   }
  },
  {
   "cell_type": "code",
   "execution_count": null,
   "outputs": [],
   "source": [
    "print(\"x y z w\")\n",
    "for x in range(0, 2):\n",
    "    for y in range(0, 2):\n",
    "        for z in range(0, 2):\n",
    "            for w in range(0, 2):\n",
    "                if not (not (y <= x) or (z <= w) or (not z)):\n",
    "                    print(x, y, z, w)"
   ],
   "metadata": {
    "collapsed": false,
    "pycharm": {
     "name": "#%%\n"
    }
   }
  },
  {
   "cell_type": "markdown",
   "source": [
    "1"
   ],
   "metadata": {
    "collapsed": false,
    "pycharm": {
     "name": "#%% md\n"
    }
   }
  },
  {
   "cell_type": "code",
   "execution_count": 1,
   "outputs": [
    {
     "name": "stdout",
     "output_type": "stream",
     "text": [
      "x y z w\n",
      "0 0 0 0\n",
      "0 0 0 1\n",
      "0 0 1 0\n",
      "0 0 1 1\n",
      "0 1 0 0\n",
      "0 1 0 1\n",
      "0 1 1 0\n",
      "0 1 1 1\n",
      "1 0 0 0\n",
      "1 0 1 1\n",
      "1 1 0 0\n",
      "1 1 0 1\n"
     ]
    }
   ],
   "source": [
    "print(\"x y z w\")\n",
    "for x in range(2):\n",
    "    for y in range(2):\n",
    "        for z in range(2):\n",
    "            for w in range(2):\n",
    "                if not (x and (y <= z) and ((not y) <= ((not z) == w))):\n",
    "                    print(x, y, z, w)"
   ],
   "metadata": {
    "collapsed": false,
    "pycharm": {
     "name": "#%%\n"
    }
   }
  },
  {
   "cell_type": "markdown",
   "source": [
    "2"
   ],
   "metadata": {
    "collapsed": false,
    "pycharm": {
     "name": "#%% md\n"
    }
   }
  },
  {
   "cell_type": "code",
   "execution_count": null,
   "outputs": [],
   "source": [
    "print(\"x y z w\")\n",
    "for x in range(2):\n",
    "    for y in range(2):\n",
    "        for z in range(2):\n",
    "            for w in range(2):\n",
    "                if (y and (x <= w) and ((not x) <= ((not w) == z))):\n",
    "                    print(x, y, z, w)"
   ],
   "metadata": {
    "collapsed": false,
    "pycharm": {
     "name": "#%%\n"
    }
   }
  },
  {
   "cell_type": "markdown",
   "source": [
    "x y z w\n",
    "0 0 0 0\n",
    "0 0 0 1\n",
    "0 0 1 0\n",
    "0 0 1 1\n",
    "0 1 0 0\n",
    "0 1 1 1\n",
    "1 0 0 0\n",
    "1 0 0 1\n",
    "1 0 1 0\n",
    "1 0 1 1\n",
    "1 1 0 0\n",
    "1 1 1 0"
   ],
   "metadata": {
    "collapsed": false,
    "pycharm": {
     "name": "#%% md\n"
    }
   }
  },
  {
   "cell_type": "code",
   "execution_count": 3,
   "metadata": {
    "pycharm": {
     "name": "#%%\n"
    }
   },
   "outputs": [
    {
     "name": "stdout",
     "output_type": "stream",
     "text": [
      "x y z w\n",
      "0 0 0 0\n",
      "0 0 0 1\n",
      "0 0 1 0\n",
      "0 0 1 1\n",
      "0 1 0 0\n",
      "0 1 0 1\n",
      "1 0 0 0\n",
      "1 0 1 1\n",
      "1 1 0 0\n",
      "1 1 0 1\n",
      "1 1 1 0\n",
      "1 1 1 1\n"
     ]
    }
   ],
   "source": [
    "print(\"x y z w\")\n",
    "for x in range(0, 2):\n",
    "    for y in range(0, 2):\n",
    "        for z in range(0, 2):\n",
    "            for w in range(0, 2):\n",
    "                if not (x == (not (y))) or ((x and w) == z):\n",
    "                    print(x, y, z, w)"
   ]
  },
  {
   "cell_type": "code",
   "execution_count": 6,
   "metadata": {
    "pycharm": {
     "name": "#%%\n"
    }
   },
   "outputs": [
    {
     "name": "stdout",
     "output_type": "stream",
     "text": [
      "x y z w\n",
      "0 0 1 0\n",
      "1 0 1 0\n",
      "1 1 1 0\n"
     ]
    }
   ],
   "source": [
    "print(\"x y z w\")\n",
    "for x in range(0, 2):\n",
    "    for y in range(0, 2):\n",
    "        for z in range(0, 2):\n",
    "            for w in range(0, 2):\n",
    "                if not (not (y <= x) or (z <= w) or (not z)):\n",
    "                    print(x, y, z, w)"
   ]
  },
  {
   "cell_type": "markdown",
   "metadata": {
    "pycharm": {
     "name": "#%% md\n"
    }
   },
   "source": [
    "1"
   ]
  },
  {
   "cell_type": "code",
   "execution_count": 11,
   "metadata": {
    "pycharm": {
     "name": "#%%\n"
    }
   },
   "outputs": [
    {
     "name": "stdout",
     "output_type": "stream",
     "text": [
      "x y z w\n",
      "0 0 0 0\n",
      "0 0 0 1\n",
      "0 0 1 0\n",
      "0 0 1 1\n",
      "0 1 0 0\n",
      "0 1 0 1\n",
      "0 1 1 0\n",
      "0 1 1 1\n",
      "1 0 0 0\n",
      "1 0 1 1\n",
      "1 1 0 0\n",
      "1 1 0 1\n"
     ]
    }
   ],
   "source": [
    "print(\"x y z w\")\n",
    "for x in range(2):\n",
    "    for y in range(2):\n",
    "        for z in range(2):\n",
    "            for w in range(2):\n",
    "                if not (x and (y <= z) and ((not y) <= ((not z) == w))):\n",
    "                    print(x, y, z, w)"
   ]
  },
  {
   "cell_type": "markdown",
   "metadata": {
    "pycharm": {
     "name": "#%% md\n"
    }
   },
   "source": [
    "2"
   ]
  },
  {
   "cell_type": "code",
   "execution_count": 17,
   "metadata": {
    "pycharm": {
     "name": "#%%\n"
    }
   },
   "outputs": [
    {
     "name": "stdout",
     "output_type": "stream",
     "text": [
      "x y z w\n",
      "0 1 0 1\n",
      "0 1 1 0\n",
      "1 1 0 1\n",
      "1 1 1 1\n"
     ]
    }
   ],
   "source": [
    "print(\"x y z w\")\n",
    "for x in range(2):\n",
    "    for y in range(2):\n",
    "        for z in range(2):\n",
    "            for w in range(2):\n",
    "                if (y and (x <= w) and ((not x) <= ((not w) == z))):\n",
    "                    print(x, y, z, w)"
   ]
  },
  {
   "cell_type": "markdown",
   "metadata": {
    "pycharm": {
     "name": "#%% md\n"
    }
   },
   "source": [
    "x y z w\n",
    "0 0 0 0\n",
    "0 0 0 1\n",
    "0 0 1 0\n",
    "0 0 1 1\n",
    "0 1 0 0\n",
    "0 1 1 1\n",
    "1 0 0 0\n",
    "1 0 0 1\n",
    "1 0 1 0\n",
    "1 0 1 1\n",
    "1 1 0 0\n",
    "1 1 1 0"
   ]
  }
 ],
 "metadata": {
  "kernelspec": {
   "display_name": "Python 3.10.4 64-bit",
   "language": "python",
   "name": "python3"
  },
  "language_info": {
   "codemirror_mode": {
    "name": "ipython",
    "version": 3
   },
   "file_extension": ".py",
   "mimetype": "text/x-python",
   "name": "python",
   "nbconvert_exporter": "python",
   "pygments_lexer": "ipython3",
   "version": "3.10.4"
  },
  "orig_nbformat": 4,
  "vscode": {
   "interpreter": {
    "hash": "369f2c481f4da34e4445cda3fffd2e751bd1c4d706f27375911949ba6bb62e1c"
   }
  }
 },
 "nbformat": 4,
 "nbformat_minor": 2
}